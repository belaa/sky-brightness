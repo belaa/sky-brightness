{
 "cells": [
  {
   "cell_type": "markdown",
   "metadata": {},
   "source": [
    "# DECaLS Sky Brightness"
   ]
  },
  {
   "cell_type": "code",
   "execution_count": 1,
   "metadata": {
    "collapsed": false
   },
   "outputs": [
    {
     "name": "stdout",
     "output_type": "stream",
     "text": [
      "Populating the interactive namespace from numpy and matplotlib\n"
     ]
    }
   ],
   "source": [
    "%pylab inline"
   ]
  },
  {
   "cell_type": "code",
   "execution_count": 2,
   "metadata": {
    "collapsed": true
   },
   "outputs": [],
   "source": [
    "import speclite\n",
    "\n",
    "import astropy.io.fits\n",
    "import astropy.table\n",
    "import astropy.time\n",
    "import astropy.coordinates\n",
    "import astropy.units as u \n",
    "\n",
    "import specsim.atmosphere\n",
    "import specsim.simulator\n",
    "\n",
    "from desiutil.plots import plot_sky_binned, plot_sky_circles, init_sky"
   ]
  },
  {
   "cell_type": "markdown",
   "metadata": {},
   "source": [
    "#### Load the data"
   ]
  },
  {
   "cell_type": "code",
   "execution_count": 4,
   "metadata": {
    "collapsed": false
   },
   "outputs": [],
   "source": [
    "hdus = astropy.io.fits.open('data/decalsobs-zpt-dr3-allv2.fits')\n",
    "\n",
    "def make_table():\n",
    "    t = astropy.table.Table()\n",
    "    for name in ('DATE', 'AIRMASS', 'RA', 'DEC', 'FILTER', 'SKYBR', 'MOONSEP', 'MOONPHASE', 'MOONUP', 'SUNALT', \n",
    "                 'SUNSEP', 'TRANSP', 'EXPTIME', 'ZD', 'SEEING', 'SKYSIG', 'DEPTH'):\n",
    "        values = hdus[1].data[name].reshape(-1)\n",
    "        t[name] = astropy.table.Column(values)\n",
    "    t['MOONFRAC'] = t['MOONPHASE']\n",
    "    t['MOONPHASE'] = np.arccos(2 * t['MOONFRAC'] - 1.) / np.pi\n",
    "    return t\n",
    "\n",
    "t = make_table()"
   ]
  },
  {
   "cell_type": "code",
   "execution_count": 5,
   "metadata": {
    "collapsed": true
   },
   "outputs": [],
   "source": [
    "# Only keep values with airmass != 0.0\n",
    "keep_airmass = t['AIRMASS'] != 0.0\n",
    "t = t[keep_airmass]"
   ]
  },
  {
   "cell_type": "markdown",
   "metadata": {},
   "source": [
    "#### Get moon (alt, az) positions"
   ]
  },
  {
   "cell_type": "code",
   "execution_count": 6,
   "metadata": {
    "collapsed": true
   },
   "outputs": [],
   "source": [
    "time = astropy.time.Time(t['DATE'], format='jd')\n",
    "location = astropy.coordinates.EarthLocation.from_geodetic(\n",
    "    lat='-30d10m10.78s', lon='-70d48m23.49s', height=2241.4*u.m)\n",
    "\n",
    "moon_position = astropy.coordinates.get_moon(time, location)\n",
    "moon_ra = moon_position.ra.value\n",
    "moon_dec = moon_position.dec.value\n",
    "moon_position_altaz = moon_position.transform_to(astropy.coordinates.AltAz(obstime=time, location=location))\n",
    "moon_alt = moon_position_altaz.alt.value\n",
    "moon_az = moon_position_altaz.az.value"
   ]
  },
  {
   "cell_type": "markdown",
   "metadata": {},
   "source": [
    "#### Make cuts on transparency and moon altitude\n",
    "\n",
    "Transparency is the fraction of the expected light that reaches us."
   ]
  },
  {
   "cell_type": "code",
   "execution_count": 8,
   "metadata": {
    "collapsed": false
   },
   "outputs": [
    {
     "data": {
      "image/png": "[encoded data removed]",
      "text/plain": [
       "<matplotlib.figure.Figure at 0x1067492b0>"
      ]
     },
     "metadata": {},
     "output_type": "display_data"
    }
   ],
   "source": [
    "plt.hist(t['TRANSP'], bins=50, range=(0, 2))\n",
    "plt.xlabel('Transparency')\n",
    "plt.show()"
   ]
  },
  {
   "cell_type": "code",
   "execution_count": 11,
   "metadata": {
    "collapsed": true
   },
   "outputs": [],
   "source": [
    "sel_g = (t['FILTER'] == 'g') & (moon_alt > 10.) & (t['TRANSP'] > .75) & (t['TRANSP'] < 1.3)\n",
    "sel_r = (t['FILTER'] == 'r') & (moon_alt > 10.) & (t['TRANSP'] > .75) & (t['TRANSP'] < 1.3)\n",
    "sel_z = (t['FILTER'] == 'z') & (moon_alt > 10.) & (t['TRANSP'] > .75) & (t['TRANSP'] < 1.3)\n",
    "\n",
    "t_g = t[sel_g]\n",
    "t_r = t[sel_r]\n",
    "t_z = t[sel_z]"
   ]
  },
  {
   "cell_type": "code",
   "execution_count": null,
   "metadata": {
    "collapsed": true
   },
   "outputs": [],
   "source": []
  }
 ],
 "metadata": {
  "anaconda-cloud": {},
  "kernelspec": {
   "display_name": "Python [default]",
   "language": "python",
   "name": "python3"
  },
  "language_info": {
   "codemirror_mode": {
    "name": "ipython",
    "version": 3
   },
   "file_extension": ".py",
   "mimetype": "text/x-python",
   "name": "python",
   "nbconvert_exporter": "python",
   "pygments_lexer": "ipython3",
   "version": "3.5.1"
  }
 },
 "nbformat": 4,
 "nbformat_minor": 1
}
